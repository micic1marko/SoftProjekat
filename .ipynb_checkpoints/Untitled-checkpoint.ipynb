{
 "cells": [
  {
   "cell_type": "code",
   "execution_count": 1,
   "metadata": {
    "collapsed": false
   },
   "outputs": [
    {
     "name": "stdout",
     "output_type": "stream",
     "text": [
      "Using Theano backend.\n"
     ]
    }
   ],
   "source": [
    "%matplotlib inline\n",
    "import cv2\n",
    "import collections\n",
    "\n",
    "from keras.models import Sequential\n",
    "from keras.layers.core import Dense, Activation\n",
    "from keras.optimizers import SGD\n",
    "\n",
    "import matplotlib.pyplot as plt\n",
    "import numpy as np\n",
    "from sklearn.cluster import KMeans\n",
    "\n",
    "import matplotlib.pylab as pylab\n",
    "pylab.rcParams['figure.figsize'] = 16, 12\n"
   ]
  },
  {
   "cell_type": "code",
   "execution_count": 2,
   "metadata": {
    "collapsed": true
   },
   "outputs": [],
   "source": [
    "def load_image(path):\n",
    "    return cv2.cvtColor(cv2.imread(path), cv2.COLOR_BGR2RGB)\n",
    "def image_gray(image):\n",
    "    return cv2.cvtColor(image, cv2.COLOR_RGB2GRAY)\n",
    "def image_bin(image_gs):\n",
    "    ret,image_bin = cv2.threshold(image_gs, 127, 255, cv2.THRESH_BINARY)\n",
    "    return image_bin\n",
    "def invert(image):\n",
    "    return 255-image\n",
    "def display_image(image, color= False):\n",
    "    if color:\n",
    "        plt.imshow(image)\n",
    "    else:\n",
    "        plt.imshow(image, 'gray')\n",
    "def dilate(image):\n",
    "    kernel = np.ones((3,3)) # strukturni element 3x3 blok\n",
    "    return cv2.dilate(image, kernel, iterations=1)\n",
    "def erode(image):\n",
    "    kernel = np.ones((3,3)) # strukturni element 3x3 blok\n",
    "    return cv2.erode(image, kernel, iterations=1)\n",
    "\n",
    "# Uklanjanje šuma\n",
    "def remove_noise(binary_image):\n",
    "    ret_val = erode(dilate(binary_image))\n",
    "    ret_val = invert(ret_val)\n",
    "    return ret_val\n",
    "\n",
    "#Funkcionalnost implementirana u V2\n",
    "def resize_region(region):\n",
    "    resized = cv2.resize(region,(28,28), interpolation = cv2.INTER_NEAREST)\n",
    "    return resized\n",
    "def scale_to_range(image):\n",
    "    return image / 255\n",
    "def matrix_to_vector(image):\n",
    "    return image.flatten()\n",
    "def prepare_for_ann(regions):\n",
    "    ready_for_ann = []\n",
    "    for region in regions:\n",
    "        ready_for_ann.append(matrix_to_vector(scale_to_range(region)))\n",
    "    return ready_for_ann\n",
    "def convert_output(outputs):\n",
    "    return np.eye(len(outputs))\n",
    "def winner(output):\n",
    "    return max(enumerate(output), key=lambda x: x[1])[0]\n",
    "\n",
    "\n"
   ]
  },
  {
   "cell_type": "code",
   "execution_count": 3,
   "metadata": {
    "collapsed": false
   },
   "outputs": [],
   "source": [
    "def is_line(w, h):\n",
    "    if w >= 3*h:\n",
    "        return True\n",
    "    return False"
   ]
  },
  {
   "cell_type": "code",
   "execution_count": 4,
   "metadata": {
    "collapsed": true
   },
   "outputs": [],
   "source": [
    "def find_line(contures):\n",
    "    lines = []\n",
    "    for c in contures:\n",
    "        if is_line(c):\n",
    "            lines.append(c)\n",
    "    return lines"
   ]
  },
  {
   "cell_type": "code",
   "execution_count": 5,
   "metadata": {
    "collapsed": true
   },
   "outputs": [],
   "source": [
    "def is_razlomak(line, contures):\n",
    "    for c in contures:\n",
    "        if overlap(line, c):\n",
    "            return True\n",
    "    return False"
   ]
  },
  {
   "cell_type": "code",
   "execution_count": 56,
   "metadata": {
    "collapsed": true
   },
   "outputs": [],
   "source": [
    "def overlap(contours):\n",
    "    ret_val = []\n",
    "    merged_index = []\n",
    "\n",
    "    for i, contour1 in enumerate(contours):\n",
    "        if i in merged_index:\n",
    "            continue\n",
    "            \n",
    "        min_x1 = min(contour1[:,0])\n",
    "        max_x1 = max(contour1[:,0])\n",
    "        min_y1 = min(contour1[:,1])\n",
    "        max_y1 = max(contour1[:,1])\n",
    "        \n",
    "        w = max_x1 - min_x1\n",
    "        h = max_y1 - min_y1\n",
    "        \n",
    "        if is_line(w, h):\n",
    "\n",
    "            for j, contour2 in enumerate(contours):\n",
    "                if j in merged_index or i == j:\n",
    "                    continue\n",
    "                min_x2 = min(contour2[:, 0])\n",
    "                max_x2 = max(contour2[:, 0])\n",
    "\n",
    "                for k, contour3 in enumerate(contours):\n",
    "                    if k in merged_index or i == k or j == k:\n",
    "                        continue\n",
    "                    min_x3 = min(contour2[:, 0])\n",
    "                    max_x3 = max(contour2[:, 0])\n",
    "\n",
    "                    levi = min_x1 - 0.10 * max_x1\n",
    "                    desno = max_x1 + 0.10 * max_x1\n",
    "\n",
    "                    if (levi < min_x2 and levi < min_x3 and desni > max_x2 and desni > max_x3):\n",
    "                        \n",
    "                        merged_index.append(i)\n",
    "                        merged_index.append(j)\n",
    "                        \n",
    "                        return True\n",
    "                        \n",
    "            break\n",
    "\n",
    "    return False"
   ]
  },
  {
   "cell_type": "code",
   "execution_count": 40,
   "metadata": {
    "collapsed": true
   },
   "outputs": [],
   "source": [
    "def rotate_regions(contours,angles,centers,sizes):\n",
    "    '''Funkcija koja vrši rotiranje regiona oko njihovih centralnih tačaka\n",
    "    Args:\n",
    "        contours: skup svih kontura [kontura1, kontura2, ..., konturaN]\n",
    "        angles:   skup svih uglova nagiba kontura [nagib1, nagib2, ..., nagibN]\n",
    "        centers:  skup svih centara minimalnih pravougaonika koji su opisani \n",
    "                  oko kontura [centar1, centar2, ..., centarN]\n",
    "        sizes:    skup parova (height,width) koji predstavljaju duzine stranica minimalnog\n",
    "                  pravougaonika koji je opisan oko konture [(h1,w1), (h2,w2), ...,(hN,wN)]\n",
    "    Return:\n",
    "        ret_val: rotirane konture'''\n",
    "    ret_val = []\n",
    "    for idx, contour in enumerate(contours):\n",
    "                \n",
    "        angle = angles[idx]\n",
    "        cx,cy = centers[idx]\n",
    "        height, width = sizes[idx]\n",
    "        if width<height:\n",
    "            angle+=90\n",
    "            \n",
    "        # Rotiranje svake tačke regiona oko centra rotacije\n",
    "        alpha = np.pi/2 - abs(np.radians(angle))\n",
    "        region_points_rotated = np.ndarray((len(contour), 2), dtype=np.int16)\n",
    "        for i, point in enumerate(contour):\n",
    "            x = point[0]\n",
    "            y = point[1]\n",
    "            \n",
    "            #TODO 1 - izračunati koordinate tačke nakon rotacije\n",
    "            rx = np.sin(alpha)*(x-cx) - np.cos(alpha)*(y-cy) + cx\n",
    "            ry = np.cos(alpha)*(x-cx) + np.sin(alpha)*(y-cy) + cy\n",
    "            \n",
    "            \n",
    "            region_points_rotated[i] = [rx,ry]\n",
    "        ret_val.append(region_points_rotated)\n",
    "        \n",
    "\n",
    "    return ret_val"
   ]
  },
  {
   "cell_type": "code",
   "execution_count": 52,
   "metadata": {
    "collapsed": false
   },
   "outputs": [],
   "source": [
    "# TODO 6\n",
    "def select_roi(image_orig, image_bin):\n",
    "    '''\n",
    "    Funkcija kao u vežbi 2, iscrtava pravougaonike na originalnoj slici, pronalazi sortiran niz regiona sa slike,\n",
    "    i dodatno treba da sačuva rastojanja između susednih regiona.\n",
    "    '''\n",
    "    img, contours_borders, hierarchy = cv2.findContours(image_bin.copy(), cv2.RETR_EXTERNAL, cv2.CHAIN_APPROX_NONE)\n",
    "    #Način određivanja kontura je promenjen na spoljašnje konture: cv2.RETR_EXTERNAL\n",
    "    \n",
    "    regions_dict = {}\n",
    "    contours = []\n",
    "    contour_angles = []\n",
    "    contour_centers = []\n",
    "    contour_sizes = []\n",
    "    for contour in contours_borders:\n",
    "        center, size, angle = cv2.minAreaRect(contour)\n",
    "        xt,yt,h,w = cv2.boundingRect(contour)\n",
    "\n",
    "        region_points = []\n",
    "        for i in range (xt,xt+h):\n",
    "            for j in range(yt,yt+w):\n",
    "                dist = cv2.pointPolygonTest(contour,(i,j),False)\n",
    "                if dist>=0 and image_bin[j,i]==255: # da li se tacka nalazi unutar konture?\n",
    "                    region_points.append([i,j])\n",
    "        contour_centers.append(center)\n",
    "        contour_angles.append(angle)\n",
    "        contour_sizes.append(size)\n",
    "        contours.append(region_points)\n",
    "        \n",
    "    #Postavljanje kontura u vertikalan polozaj\n",
    "    contours = rotate_regions(contours, contour_angles, contour_centers, contour_sizes)\n",
    "    \n",
    "    print overlap(contours)\n",
    "\n",
    "    for contour in contours:\n",
    "    \n",
    "        min_x = min(contour[:,0])\n",
    "        max_x = max(contour[:,0])\n",
    "        min_y = min(contour[:,1])\n",
    "        max_y = max(contour[:,1])\n",
    "\n",
    "        region = np.zeros((max_y-min_y+1,max_x-min_x+1), dtype=np.int16)\n",
    "        for point in contour:\n",
    "            x = point[0]\n",
    "            y = point[1]\n",
    "            \n",
    "             # TODO 3 - koordinate tacaka regiona prebaciti u relativne koordinate\n",
    "            '''Pretpostavimo da gornja leva tačka regiona ima apsolutne koordinate (100,100).\n",
    "            Ako uzmemo tačku sa koordinatama unutar regiona, recimo (105,105), nakon\n",
    "            prebacivanja u relativne koordinate tačka bi trebala imati koorinate (5,5) unutar\n",
    "            samog regiona.\n",
    "            '''\n",
    "            region[y-min_y,x-min_x] = 255\n",
    "\n",
    "        \n",
    "        regions_dict[min_x] = [resize_region(region), (min_x,min_y,max_x-min_x,max_y-min_y)]\n",
    "        \n",
    "    sorted_regions_dict = collections.OrderedDict(sorted(regions_dict.items()))\n",
    "    sorted_regions = np.array(sorted_regions_dict.values())\n",
    "    \n",
    "    sorted_rectangles = sorted_regions[:,1]\n",
    "    region_distances = [-sorted_rectangles[0][0]-sorted_rectangles[0][2]]\n",
    "    for x,y,w,h in sorted_regions[1:-1, 1]:\n",
    "        region_distances[-1] += x\n",
    "        region_distances.append(-x-w)\n",
    "    region_distances[-1] += sorted_rectangles[-1][0]\n",
    "    \n",
    "    return image_orig, sorted_regions[:, 0], region_distances"
   ]
  },
  {
   "cell_type": "code",
   "execution_count": 8,
   "metadata": {
    "collapsed": true
   },
   "outputs": [],
   "source": [
    "# TODO 7\n",
    "def create_ann():\n",
    "    '''\n",
    "    Implementirati veštačku neuronsku mrežu sa 28x28 ulaznih neurona i jednim skrivenim slojem od 128 neurona.\n",
    "    Odrediti broj izlaznih neurona. Aktivaciona funkcija je sigmoid.\n",
    "    '''\n",
    "    ann = Sequential()\n",
    "    # Postaviti slojeve neurona mreže 'ann'\n",
    "    ann.add(Dense(128, input_dim=784, activation='sigmoid'))\n",
    "    ann.add(Dense(16, activation='sigmoid'))\n",
    "    return ann\n",
    "    \n",
    "def train_ann(ann, X_train, y_train):\n",
    "    X_train = np.array(X_train, np.float32)\n",
    "    y_train = np.array(y_train, np.float32)\n",
    "   \n",
    "    # definisanje parametra algoritma za obucavanje\n",
    "    sgd = SGD(lr=0.01, momentum=0.9)\n",
    "    ann.compile(loss='mean_squared_error', optimizer=sgd)\n",
    "\n",
    "    # obucavanje neuronske mreze\n",
    "    ann.fit(X_train, y_train, nb_epoch=500, batch_size=1, verbose = 0, shuffle=False, show_accuracy = False) \n",
    "      \n",
    "    return ann"
   ]
  },
  {
   "cell_type": "code",
   "execution_count": 9,
   "metadata": {
    "collapsed": false
   },
   "outputs": [
    {
     "name": "stdout",
     "output_type": "stream",
     "text": [
      "Broj prepoznatih regiona: 16\n"
     ]
    },
    {
     "data": {
      "image/png": "[encoded data removed]",
      "text/plain": [
       "<matplotlib.figure.Figure at 0x1c08aeb8>"
      ]
     },
     "metadata": {},
     "output_type": "display_data"
    }
   ],
   "source": [
    "image_color = load_image('crnoBelo.png')\n",
    "img = image_bin(invert(image_gray(image_color)))\n",
    "selected_regions, letters, region_distances = select_roi(image_color.copy(), img)\n",
    "display_image(selected_regions)\n",
    "display_image(img)\n",
    "print 'Broj prepoznatih regiona:', len(letters)"
   ]
  },
  {
   "cell_type": "code",
   "execution_count": 10,
   "metadata": {
    "collapsed": false
   },
   "outputs": [],
   "source": [
    "alphabet = ['1','2','3','4','5','6','7','8','9','0','+','-','*','/','(',')']\n",
    "inputs = prepare_for_ann(letters)\n",
    "outputs = convert_output(alphabet)\n",
    "ann = create_ann()\n",
    "ann = train_ann(ann, inputs, outputs)"
   ]
  },
  {
   "cell_type": "code",
   "execution_count": 57,
   "metadata": {
    "collapsed": false,
    "scrolled": true
   },
   "outputs": [
    {
     "name": "stdout",
     "output_type": "stream",
     "text": [
      "False\n",
      "Broj prepoznatih regiona: 3\n"
     ]
    },
    {
     "data": {
      "image/png": "[encoded data removed]",
      "text/plain": [
       "<matplotlib.figure.Figure at 0x20faa2b0>"
      ]
     },
     "metadata": {},
     "output_type": "display_data"
    }
   ],
   "source": [
    "#Učitavanje slike i određivanje regiona od interesa\n",
    "image_color = load_image('razlomak.png')\n",
    "img = image_bin(invert(image_gray(image_color)))\n",
    "display_image(img)\n",
    "selected_regions, letters, distances = select_roi(image_color.copy(), img)\n",
    "display_image(selected_regions)\n",
    "\n",
    "print 'Broj prepoznatih regiona:', len(letters)\n"
   ]
  },
  {
   "cell_type": "code",
   "execution_count": 188,
   "metadata": {
    "collapsed": false
   },
   "outputs": [
    {
     "data": {
      "text/plain": [
       "KMeans(copy_x=True, init='k-means++', max_iter=2000, n_clusters=2, n_init=10,\n",
       "    n_jobs=1, precompute_distances='auto', random_state=None, tol=1e-05,\n",
       "    verbose=0)"
      ]
     },
     "execution_count": 188,
     "metadata": {},
     "output_type": "execute_result"
    }
   ],
   "source": [
    "#Podešavanje centara grupa K-means algoritmom\n",
    "distances = np.array(distances).reshape(len(distances), 1)\n",
    "#Neophodno je da u K-means algoritam bude prosleđena matrica u kojoj vrste određuju elemente\n",
    "\n",
    "k_means = KMeans(n_clusters=2, max_iter=2000, tol=0.00001, n_init=10)\n",
    "k_means.fit(distances)"
   ]
  },
  {
   "cell_type": "code",
   "execution_count": 189,
   "metadata": {
    "collapsed": false
   },
   "outputs": [],
   "source": [
    "def display_result(outputs, alphabet, k_means):\n",
    "    '''\n",
    "    Funkcija određuje koja od grupa predstavlja razmak između reči, a koja između slova, i na osnovu\n",
    "    toga formira string od elemenata pronađenih sa slike.\n",
    "    Args:\n",
    "        outputs: niz izlaza iz neuronske mreže.\n",
    "        alphabet: niz karaktera koje je potrebno prepoznati\n",
    "        kmeans: obučen kmeans objekat\n",
    "    Return:\n",
    "        Vraća formatiran string\n",
    "    '''\n",
    "    # Odrediti indeks grupe koja odgovara rastojanju između reči, pomoću vrednosti iz k_means.cluster_centers_\n",
    "    w_space_group = max(enumerate(k_means.cluster_centers_), key = lambda x: x[1])[0]\n",
    "    result = alphabet[winner(outputs[0])]\n",
    "    for idx, output in enumerate(outputs[1:,:]):\n",
    "        # Iterativno dodavati prepoznate elemente kao u vežbi 2, alphabet[winner(output)]\n",
    "        # Dodati space karakter u slučaju da odgovarajuće rastojanje između dva slova odgovara razmaku između reči.\n",
    "        # U ovu svrhu, koristiti atribut niz k_means.labels_ koji sadrži sortirana rastojanja između susednih slova.\n",
    "        '''if (k_means.labels_[idx] == w_space_group):\n",
    "            result += ' '\n",
    "        '''\n",
    "        result += alphabet[winner(output)]\n",
    "    return result"
   ]
  },
  {
   "cell_type": "code",
   "execution_count": 190,
   "metadata": {
    "collapsed": false
   },
   "outputs": [
    {
     "name": "stdout",
     "output_type": "stream",
     "text": [
      "-68\n"
     ]
    }
   ],
   "source": [
    "inputs = prepare_for_ann(letters)\n",
    "results = ann.predict(np.array(inputs, np.float32))\n",
    "print display_result(results, alphabet, k_means)"
   ]
  },
  {
   "cell_type": "code",
   "execution_count": 191,
   "metadata": {
    "collapsed": false
   },
   "outputs": [
    {
     "name": "stdout",
     "output_type": "stream",
     "text": [
      "3\n"
     ]
    }
   ],
   "source": [
    "inputs = prepare_for_ann(letters)\n",
    "results = ann.predict(np.array(inputs, np.float32))\n",
    "print len(display_result(results, alphabet, k_means))"
   ]
  },
  {
   "cell_type": "code",
   "execution_count": 192,
   "metadata": {
    "collapsed": true
   },
   "outputs": [],
   "source": [
    "import wolframalpha\n",
    "client = wolframalpha.Client('GXV5GX-22UK9WJXHP')"
   ]
  },
  {
   "cell_type": "code",
   "execution_count": 27,
   "metadata": {
    "collapsed": false
   },
   "outputs": [
    {
     "name": "stdout",
     "output_type": "stream",
     "text": [
      "negative sixty-eight\n"
     ]
    }
   ],
   "source": [
    "inputs = prepare_for_ann(letters)\n",
    "results = ann.predict(np.array(inputs, np.float32))\n",
    "query = display_result(results, alphabet, k_means)\n",
    "res = client.query(query)\n",
    "print res.pods[1].text"
   ]
  },
  {
   "cell_type": "code",
   "execution_count": null,
   "metadata": {
    "collapsed": true
   },
   "outputs": [],
   "source": []
  }
 ],
 "metadata": {
  "kernelspec": {
   "display_name": "Python 2",
   "language": "python",
   "name": "python2"
  },
  "language_info": {
   "codemirror_mode": {
    "name": "ipython",
    "version": 2
   },
   "file_extension": ".py",
   "mimetype": "text/x-python",
   "name": "python",
   "nbconvert_exporter": "python",
   "pygments_lexer": "ipython2",
   "version": "2.7.11"
  }
 },
 "nbformat": 4,
 "nbformat_minor": 0
}
